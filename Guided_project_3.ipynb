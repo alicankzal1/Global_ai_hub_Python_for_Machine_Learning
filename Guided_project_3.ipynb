{
  "cells": [
    {
      "cell_type": "markdown",
      "id": "15177c1c",
      "metadata": {
        "id": "15177c1c"
      },
      "source": [
        "#Chapter 3: Data cleaning exercise\n",
        "\n",
        "### Sales department performance analysis\n",
        "\n",
        "The HR department wants to analyze the performance of the employees in the sales department.\n",
        "\n",
        "### Data Reading\n",
        "Rachel wrote a text file employee_revenue.txt including all necessary information, but she needs help to extract the necessary information.\n",
        "\n",
        "Start by uploading the employee_revenue file to the working directory.\n",
        "\n",
        "📌 Use the .read() method to open the text file in read mode and assign it to the variable \"data\".\n"
      ]
    },
    {
      "cell_type": "code",
      "execution_count": 2,
      "id": "da79a8da",
      "metadata": {
        "colab": {
          "base_uri": "https://localhost:8080/",
          "height": 17
        },
        "id": "da79a8da",
        "outputId": "de60b8cb-3977-4a43-df3a-4529cc28dfae"
      },
      "outputs": [],
      "source": [
        "#Open the file in read mode\n"
      ]
    },
    {
      "cell_type": "code",
      "execution_count": null,
      "id": "75a5de52",
      "metadata": {
        "id": "75a5de52"
      },
      "outputs": [],
      "source": [
        "#Print the data\n"
      ]
    },
    {
      "cell_type": "markdown",
      "id": "33d4f7ef",
      "metadata": {
        "id": "33d4f7ef"
      },
      "source": [
        "### Data Cleaning\n",
        "\n",
        "You can see that the data needs to be cleaned and information has to be extracted from these lines. \n",
        "\n",
        "To be able to clean the data, you need to separate the text into lines.\n",
        "\n",
        "📌 Use the .splitlines() method."
      ]
    },
    {
      "cell_type": "code",
      "execution_count": null,
      "id": "9a1a651d",
      "metadata": {
        "id": "9a1a651d"
      },
      "outputs": [],
      "source": [
        "#Seperate the data into lines\n"
      ]
    },
    {
      "cell_type": "markdown",
      "id": "CKkeig2poz7w",
      "metadata": {
        "id": "CKkeig2poz7w"
      },
      "source": [
        "### Clean the data line by line\n",
        "\n",
        "Start to clean the data for the first line.\n",
        "\n",
        "📌 Use the .strip() method to remove the whitespaces from the edges of the string."
      ]
    },
    {
      "cell_type": "code",
      "execution_count": null,
      "id": "2332622c",
      "metadata": {
        "id": "2332622c"
      },
      "outputs": [],
      "source": [
        "#Take the first line\n"
      ]
    },
    {
      "cell_type": "code",
      "execution_count": null,
      "id": "26219c0d",
      "metadata": {
        "id": "26219c0d"
      },
      "outputs": [],
      "source": [
        "#Remove the whitespaces from the edges\n"
      ]
    },
    {
      "cell_type": "markdown",
      "id": "ed90bfc6",
      "metadata": {
        "id": "ed90bfc6"
      },
      "source": [
        "Next, you need to fix the capitalization issues.\n",
        "\n",
        "📌 Use the .lower() method to convert the text to lowercase.\n",
        "\n",
        "📌 Then use the .capitalize() method to capitalize the first letter."
      ]
    },
    {
      "cell_type": "code",
      "execution_count": null,
      "id": "ef8bca74",
      "metadata": {
        "id": "ef8bca74"
      },
      "outputs": [],
      "source": [
        "#Convert the string to lowercase\n"
      ]
    },
    {
      "cell_type": "code",
      "execution_count": null,
      "id": "d4be9443",
      "metadata": {
        "id": "d4be9443"
      },
      "outputs": [],
      "source": [
        "#Capitalize the first character\n"
      ]
    },
    {
      "cell_type": "markdown",
      "id": "f89b01c4",
      "metadata": {
        "id": "f89b01c4"
      },
      "source": [
        "### Information Extraction\n",
        "\n",
        "To extract the information, you need to split the sentence into words. \n",
        "\n",
        "📌 Use the .split() method.\n"
      ]
    },
    {
      "cell_type": "code",
      "execution_count": null,
      "id": "04ede2fd",
      "metadata": {
        "id": "04ede2fd"
      },
      "outputs": [],
      "source": [
        "#Split the sentece into words\n"
      ]
    },
    {
      "cell_type": "markdown",
      "id": "9138eb5b",
      "metadata": {
        "id": "9138eb5b"
      },
      "source": [
        "You might noticed that the first element in the list is the name and the third element is the number of calls.\n",
        "\n",
        "📌 Use the indeces to extract the name and number of calls."
      ]
    },
    {
      "cell_type": "code",
      "execution_count": null,
      "id": "897c59e5",
      "metadata": {
        "id": "897c59e5"
      },
      "outputs": [],
      "source": [
        "#Use the index 0 to access the name element\n"
      ]
    },
    {
      "cell_type": "code",
      "execution_count": null,
      "id": "98103332",
      "metadata": {
        "id": "98103332"
      },
      "outputs": [],
      "source": [
        "#Use the index 2 to access the number of calls element\n"
      ]
    },
    {
      "cell_type": "markdown",
      "id": "etif7Kb3tEUC",
      "metadata": {
        "id": "etif7Kb3tEUC"
      },
      "source": [
        "So far so good!\n",
        "\n",
        "But as you can see the sentence order is not the same after the 7th element.\n",
        "\n",
        "To extract the average deal size you need to come up with a different approach. You can use the \"$\" sign to find the corresponding element.\n",
        "\n",
        "📌 Loop over the list to find the element that includes the \"$\" sign.\n",
        "\n",
        "📌 Then, use the .split() method to divide the string into the number and the $ sign."
      ]
    },
    {
      "cell_type": "code",
      "execution_count": null,
      "id": "443a9ddf",
      "metadata": {
        "id": "443a9ddf"
      },
      "outputs": [],
      "source": [
        "#Find the element with the \"$\" sign\n",
        "\n",
        "  #Divide the number from it\n",
        "\n",
        "#Print the average deal size\n"
      ]
    },
    {
      "cell_type": "markdown",
      "id": "1332df7e",
      "metadata": {
        "id": "1332df7e"
      },
      "source": [
        "Similarly, we can use the string \"dollars\" to extract the revenue, which is the element right before \"dollars\".\n",
        "\n",
        "📌 Use the .index() method to identify the index for the \"dollars\" element.\n",
        "\n",
        "📌 Then, use this index to specify and extract the revenue."
      ]
    },
    {
      "cell_type": "code",
      "execution_count": null,
      "id": "a00945b0",
      "metadata": {
        "id": "a00945b0"
      },
      "outputs": [],
      "source": [
        "#Find the index of element \"dollars\"\n",
        "\n"
      ]
    },
    {
      "cell_type": "code",
      "execution_count": null,
      "id": "c663bd03",
      "metadata": {
        "id": "c663bd03"
      },
      "outputs": [],
      "source": [
        "#Subtract one from the index to identify the index of the revenue element\n"
      ]
    },
    {
      "cell_type": "code",
      "execution_count": null,
      "id": "2831e072",
      "metadata": {
        "id": "2831e072"
      },
      "outputs": [],
      "source": [
        "#Extract the revenue\n"
      ]
    },
    {
      "cell_type": "markdown",
      "id": "537ed4c2",
      "metadata": {
        "id": "537ed4c2"
      },
      "source": [
        "Great! You extracted all necessary information.\n",
        "\n",
        "📌 Print the information and check the types of the data."
      ]
    },
    {
      "cell_type": "code",
      "execution_count": null,
      "id": "ace2c99f",
      "metadata": {
        "id": "ace2c99f"
      },
      "outputs": [],
      "source": [
        "#Print out the extracted information\n"
      ]
    },
    {
      "cell_type": "code",
      "execution_count": null,
      "id": "SwAyLOAInasY",
      "metadata": {
        "id": "SwAyLOAInasY"
      },
      "outputs": [],
      "source": [
        "#Check the types\n"
      ]
    },
    {
      "cell_type": "markdown",
      "id": "08f5b5fd",
      "metadata": {
        "id": "08f5b5fd"
      },
      "source": [
        "As you can see, we have the type string for all the data, but the average deal size, number of calls, and the revenue need to be integers. \n",
        "\n",
        "📌 Convert the data using the int() function and check again."
      ]
    },
    {
      "cell_type": "code",
      "execution_count": null,
      "id": "5f42e3f0",
      "metadata": {
        "colab": {
          "base_uri": "https://localhost:8080/",
          "height": 17
        },
        "id": "5f42e3f0",
        "outputId": "acab915b-2771-4de7-aad1-093b39f4b058"
      },
      "outputs": [
        {
          "data": {
            "application/javascript": "\n  for (rule of document.styleSheets[0].cssRules){\n    if (rule.selectorText=='body') {\n      rule.style.fontSize = '25px'\n      break\n    }\n  }\n  ",
            "text/plain": [
              "<IPython.core.display.Javascript object>"
            ]
          },
          "metadata": {},
          "output_type": "display_data"
        },
        {
          "data": {
            "application/javascript": "\n  for (rule of document.styleSheets[0].cssRules){\n    if (rule.selectorText=='body') {\n      rule.style.fontSize = '25px'\n      break\n    }\n  }\n  ",
            "text/plain": [
              "<IPython.core.display.Javascript object>"
            ]
          },
          "metadata": {},
          "output_type": "display_data"
        }
      ],
      "source": [
        "#Convert the datatypes of average deal size, number of calls, and revenue\n"
      ]
    },
    {
      "cell_type": "code",
      "execution_count": null,
      "id": "89dc6fa1",
      "metadata": {
        "id": "89dc6fa1"
      },
      "outputs": [],
      "source": [
        "#Print out the information again\n"
      ]
    },
    {
      "cell_type": "markdown",
      "id": "0b194713",
      "metadata": {
        "id": "0b194713"
      },
      "source": [
        "Now, you need to apply all the methods and functions to the list that contains the different strings of all employees.\n",
        "\n",
        "📌 Create an empty lists for storing names, number of calls, average deal sizes, and revenues.\n",
        "\n",
        "📌 Use a for loop to iterate through the list with the whole data.\n",
        "\n",
        "📌 Print out the necessary information."
      ]
    },
    {
      "cell_type": "code",
      "execution_count": null,
      "id": "5a4aab7e",
      "metadata": {
        "id": "5a4aab7e"
      },
      "outputs": [],
      "source": [
        "#Create empty lists for the names, number of calls, average deal sizes, revenues\n"
      ]
    },
    {
      "cell_type": "code",
      "execution_count": null,
      "id": "2366069b",
      "metadata": {
        "id": "2366069b"
      },
      "outputs": [],
      "source": [
        "#Loop over the whole data\n",
        "\n",
        "    #Clean the string\n",
        "   \n",
        "\n",
        "    #Split the clean string\n",
        "    \n",
        "    \n",
        "    #Extract the name\n",
        "    \n",
        "\n",
        "    #Extract the average deal size\n",
        " \n",
        "\n",
        "    #Extract the revenue\n",
        "\n",
        "\n",
        "    #Convert to the correct data types\n",
        "\n",
        "\n",
        "    #Append the information to the lists\n",
        "\n",
        "\n",
        "#Print out the information\n"
      ]
    },
    {
      "cell_type": "markdown",
      "id": "4d848787",
      "metadata": {
        "id": "4d848787"
      },
      "source": [
        "Finally, you can make the process even easier and reusable by defining functions.\n",
        "\n",
        "📌 Define the function \"clean_extract\".\n",
        "\n",
        "📌 Use the retured values by assigning them to variables."
      ]
    },
    {
      "cell_type": "code",
      "execution_count": null,
      "id": "_ipfpGrirCs7",
      "metadata": {
        "colab": {
          "base_uri": "https://localhost:8080/",
          "height": 17
        },
        "id": "_ipfpGrirCs7",
        "outputId": "5c4f5ebd-b114-4b61-e332-49cc94d13f25"
      },
      "outputs": [
        {
          "data": {
            "application/javascript": "\n  for (rule of document.styleSheets[0].cssRules){\n    if (rule.selectorText=='body') {\n      rule.style.fontSize = '25px'\n      break\n    }\n  }\n  ",
            "text/plain": [
              "<IPython.core.display.Javascript object>"
            ]
          },
          "metadata": {},
          "output_type": "display_data"
        },
        {
          "data": {
            "application/javascript": "\n  for (rule of document.styleSheets[0].cssRules){\n    if (rule.selectorText=='body') {\n      rule.style.fontSize = '25px'\n      break\n    }\n  }\n  ",
            "text/plain": [
              "<IPython.core.display.Javascript object>"
            ]
          },
          "metadata": {},
          "output_type": "display_data"
        }
      ],
      "source": [
        "#Create empty lists again\n"
      ]
    },
    {
      "cell_type": "code",
      "execution_count": null,
      "id": "tnFT5Fk2qu_x",
      "metadata": {
        "id": "tnFT5Fk2qu_x"
      },
      "outputs": [],
      "source": [
        "#Define a function to clean and extract the data\n"
      ]
    },
    {
      "cell_type": "code",
      "execution_count": null,
      "id": "13b0fe6b",
      "metadata": {
        "id": "13b0fe6b"
      },
      "outputs": [],
      "source": [
        "#Assign returned values to variables\n"
      ]
    },
    {
      "cell_type": "code",
      "execution_count": null,
      "id": "44e38957",
      "metadata": {
        "id": "44e38957"
      },
      "outputs": [],
      "source": [
        "#Print out the information\n"
      ]
    },
    {
      "cell_type": "markdown",
      "id": "26efe652",
      "metadata": {
        "id": "26efe652"
      },
      "source": [
        "### Performance Analysis Report\n",
        "\n",
        "Now that you cleaned the string and extracted all the information using the function, you can create performance analysis report for the last month.\n",
        "\n",
        "📌 Assign IDs to each employee.\n",
        "\n",
        "📌 Create dictionaries.\n",
        "\n",
        "📌 Sort the dictionaries.\n",
        "\n",
        "\n"
      ]
    },
    {
      "cell_type": "markdown",
      "id": "ZT7mAK3M5k3W",
      "metadata": {
        "id": "ZT7mAK3M5k3W"
      },
      "source": [
        "First, check how many employees there are and assign the IDs.\n",
        "\n",
        "📌 Use the len() and range() function.\n"
      ]
    },
    {
      "cell_type": "code",
      "execution_count": null,
      "id": "f20ff52f",
      "metadata": {
        "id": "f20ff52f"
      },
      "outputs": [],
      "source": [
        "#Check the number of employees\n"
      ]
    },
    {
      "cell_type": "code",
      "execution_count": null,
      "id": "5c62caf8",
      "metadata": {
        "id": "5c62caf8"
      },
      "outputs": [],
      "source": [
        "#Generate IDs\n"
      ]
    },
    {
      "cell_type": "code",
      "execution_count": null,
      "id": "28cd8ce6",
      "metadata": {
        "id": "28cd8ce6"
      },
      "outputs": [],
      "source": [
        "#Check the number of IDs\n"
      ]
    },
    {
      "cell_type": "markdown",
      "id": "NKP6Yoto6eqP",
      "metadata": {
        "id": "NKP6Yoto6eqP"
      },
      "source": [
        "With the IDs ready, you need to assign the IDs to the employees.\n",
        "\n",
        "📌 Use the zip() function to pair the employee with the ID.\n",
        "\n",
        "📌 Convert the zip object into a dictionary."
      ]
    },
    {
      "cell_type": "code",
      "execution_count": null,
      "id": "7e56a43f",
      "metadata": {
        "id": "7e56a43f"
      },
      "outputs": [],
      "source": [
        "#Pair the names with the IDs in a dictionary\n"
      ]
    },
    {
      "cell_type": "markdown",
      "id": "429d7b7f",
      "metadata": {
        "id": "429d7b7f"
      },
      "source": [
        "Similarly, create a dictionary for the  employees and their revenues."
      ]
    },
    {
      "cell_type": "code",
      "execution_count": null,
      "id": "aa2c6560",
      "metadata": {
        "id": "aa2c6560"
      },
      "outputs": [],
      "source": [
        "#Pair the names with the revenues\n",
        "\n"
      ]
    },
    {
      "cell_type": "markdown",
      "id": "Ou3ne5Vn76N_",
      "metadata": {
        "id": "Ou3ne5Vn76N_"
      },
      "source": [
        "Finally, you need to find the employees with the best and lowest performance.\n",
        "\n",
        "📌 Sort the dictionary using the sorted() function in ascending and descending order.\n"
      ]
    },
    {
      "cell_type": "code",
      "execution_count": null,
      "id": "d348a929",
      "metadata": {
        "id": "d348a929"
      },
      "outputs": [],
      "source": [
        "#Find the lowest performing employees (ascending order)\n"
      ]
    },
    {
      "cell_type": "code",
      "execution_count": null,
      "id": "3210f1ad",
      "metadata": {
        "id": "3210f1ad"
      },
      "outputs": [],
      "source": [
        "#Find the best performing employees (descending order)\n"
      ]
    }
  ],
  "metadata": {
    "colab": {
      "collapsed_sections": [],
      "name": "Guided_project_3_updated.ipynb",
      "provenance": []
    },
    "kernelspec": {
      "display_name": "Python 3",
      "language": "python",
      "name": "python3"
    },
    "language_info": {
      "codemirror_mode": {
        "name": "ipython",
        "version": 3
      },
      "file_extension": ".py",
      "mimetype": "text/x-python",
      "name": "python",
      "nbconvert_exporter": "python",
      "pygments_lexer": "ipython3",
      "version": "3.10.9"
    }
  },
  "nbformat": 4,
  "nbformat_minor": 5
}
